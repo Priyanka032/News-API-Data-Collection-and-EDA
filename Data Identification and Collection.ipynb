{
 "cells": [
  {
   "cell_type": "markdown",
   "id": "eb7e7c41",
   "metadata": {},
   "source": [
    "# Task 1- Data Identification and Collection"
   ]
  },
  {
   "cell_type": "markdown",
   "id": "d71568ac",
   "metadata": {},
   "source": [
    "### In this task, the news API has been used to collect data about the news articles and news sources by making 50 API calls and finally generate 2 datasets - sources. csv and articles.csv "
   ]
  },
  {
   "cell_type": "markdown",
   "id": "2cb62184",
   "metadata": {},
   "source": [
    "#### API: News API (https://newsapi.org)\n"
   ]
  },
  {
   "cell_type": "code",
   "execution_count": 1,
   "id": "e94b9358",
   "metadata": {},
   "outputs": [],
   "source": [
    "import pandas as pd\n",
    "import os\n",
    "import json\n",
    "import time\n",
    "import requests"
   ]
  },
  {
   "cell_type": "markdown",
   "id": "f126c6f4",
   "metadata": {},
   "source": [
    "## Define Get Request"
   ]
  },
  {
   "cell_type": "code",
   "execution_count": 2,
   "id": "43b0ac49",
   "metadata": {},
   "outputs": [],
   "source": [
    "def request(suffix):\n",
    "    base_url = 'https://newsapi.org/v2'\n",
    "    url = base_url + '/' + suffix + '&apiKey=149f49e283b3475a832c686e2b548ed5' #api key with max limit of 100 calls in 24 hours\n",
    "    print(url)\n",
    "    response = requests.get(url).json()\n",
    "    time.sleep(10)\n",
    "    return response"
   ]
  },
  {
   "cell_type": "markdown",
   "id": "94f7b221",
   "metadata": {},
   "source": [
    "## Get all the different English language news sources"
   ]
  },
  {
   "cell_type": "code",
   "execution_count": 3,
   "id": "ae214879",
   "metadata": {},
   "outputs": [
    {
     "name": "stdout",
     "output_type": "stream",
     "text": [
      "https://newsapi.org/v2/top-headlines/sources?language=en&apiKey=149f49e283b3475a832c686e2b548ed5\n",
      "creating sources csv file\n",
      "sources.csv successfully created\n"
     ]
    }
   ],
   "source": [
    "sources = request('top-headlines/sources?language=en')['sources']\n",
    "sources_data = {\n",
    "    'source_id' : [],\n",
    "    'source_name' : [],\n",
    "    'description' : [],\n",
    "    'url' : [],\n",
    "    'category' : [],\n",
    "    'country' : []\n",
    "}\n",
    "for source in sources:\n",
    "    sources_data['source_id'].append(source['id'])\n",
    "    sources_data['source_name'].append(source['name'])\n",
    "    sources_data['description'].append(source['description'])\n",
    "    sources_data['url'].append(source['url'])\n",
    "    sources_data['category'].append(source['category'])\n",
    "    sources_data['country'].append(source['country'])\n",
    "\n",
    "sources_df = pd.DataFrame(sources_data)\n",
    "print('creating sources csv file')\n",
    "sources_df.to_csv('sources.csv', encoding='utf-8', index=False)\n",
    "print('sources.csv successfully created')"
   ]
  },
  {
   "cell_type": "code",
   "execution_count": 4,
   "id": "a3c61126",
   "metadata": {},
   "outputs": [],
   "source": [
    "#create a directory to store the temporary csv files in order to merge them into one\n",
    "if not os.path.exists('articles'):\n",
    "        os.mkdir('articles')"
   ]
  },
  {
   "cell_type": "markdown",
   "id": "7c66e3c1",
   "metadata": {},
   "source": [
    "## Define Get Articles method for all the types and different dates"
   ]
  },
  {
   "cell_type": "code",
   "execution_count": 5,
   "id": "0d16954a",
   "metadata": {},
   "outputs": [],
   "source": [
    "#getArticles method defined with 3 parameters from_date, to_date and type of the article\n",
    "def getArticles(from_date,to_date,types):\n",
    "    top_headlines = {\n",
    "    'source_id' : [],\n",
    "    'source_name' : [],\n",
    "    'author' : [],\n",
    "    'title' : [],\n",
    "    'url' : [],\n",
    "    'url_to_image' : [],\n",
    "    'published_at' : [],\n",
    "    'article_type' : [],\n",
    "    'article_word_count' : []\n",
    "    }\n",
    "    for article_type in types:\n",
    "        suffix = 'everything?q=' + article_type + '&language=en&from=' + from_date + '&to=' + to_date\n",
    "        headlines = request(suffix)['articles'] #request data from the API\n",
    "        #print(len(headlines))\n",
    "        for headline in headlines:\n",
    "            top_headlines['source_id'].append(headline['source']['id'])\n",
    "            top_headlines['source_name'].append(headline['source']['name'])\n",
    "            top_headlines['author'].append(headline['author'])\n",
    "            top_headlines['title'].append(headline['title'])\n",
    "            top_headlines['url'].append(headline['url'])\n",
    "            top_headlines['url_to_image'].append(headline['urlToImage'])\n",
    "            top_headlines['published_at'].append(headline['publishedAt'])   \n",
    "            top_headlines['article_type'].append(article_type)\n",
    "            content = headline['content']\n",
    "            word_count = len(content.split()) #count the number of words in article content\n",
    "            top_headlines['article_word_count'].append(word_count)\n",
    "\n",
    "    headlines_df = pd.DataFrame(top_headlines) #convert into dataframe\n",
    "    return headlines_df"
   ]
  },
  {
   "cell_type": "markdown",
   "id": "57c351b3",
   "metadata": {},
   "source": [
    "## Get article headlines in English language from different types for the specified dates"
   ]
  },
  {
   "cell_type": "markdown",
   "id": "1fcf2fe4",
   "metadata": {},
   "source": [
    "### Get article headlines in English language from different types from = 2023-03-18 and to = 2023-03-19"
   ]
  },
  {
   "cell_type": "code",
   "execution_count": 6,
   "id": "892cdeac",
   "metadata": {},
   "outputs": [
    {
     "name": "stdout",
     "output_type": "stream",
     "text": [
      "https://newsapi.org/v2/everything?q=business&language=en&from=2023-03-18&to=2023-03-19&apiKey=149f49e283b3475a832c686e2b548ed5\n",
      "https://newsapi.org/v2/everything?q=entertainment&language=en&from=2023-03-18&to=2023-03-19&apiKey=149f49e283b3475a832c686e2b548ed5\n",
      "https://newsapi.org/v2/everything?q=general&language=en&from=2023-03-18&to=2023-03-19&apiKey=149f49e283b3475a832c686e2b548ed5\n",
      "https://newsapi.org/v2/everything?q=health&language=en&from=2023-03-18&to=2023-03-19&apiKey=149f49e283b3475a832c686e2b548ed5\n",
      "https://newsapi.org/v2/everything?q=science&language=en&from=2023-03-18&to=2023-03-19&apiKey=149f49e283b3475a832c686e2b548ed5\n",
      "https://newsapi.org/v2/everything?q=sports&language=en&from=2023-03-18&to=2023-03-19&apiKey=149f49e283b3475a832c686e2b548ed5\n",
      "https://newsapi.org/v2/everything?q=technology&language=en&from=2023-03-18&to=2023-03-19&apiKey=149f49e283b3475a832c686e2b548ed5\n"
     ]
    }
   ],
   "source": [
    "types = ['business', 'entertainment', 'general', 'health', 'science', 'sports', 'technology']\n",
    "article1 = getArticles('2023-03-18','2023-03-19',types)\n",
    "article1.to_csv('articles/article1.csv', encoding='utf-8', index=False)"
   ]
  },
  {
   "cell_type": "markdown",
   "id": "9c7dfd6c",
   "metadata": {},
   "source": [
    "### Get article headlines in English language from different types from = 2023-03-19 and to = 2023-03-20"
   ]
  },
  {
   "cell_type": "code",
   "execution_count": 7,
   "id": "486c52e1",
   "metadata": {},
   "outputs": [
    {
     "name": "stdout",
     "output_type": "stream",
     "text": [
      "https://newsapi.org/v2/everything?q=business&language=en&from=2023-03-19&to=2023-03-20&apiKey=149f49e283b3475a832c686e2b548ed5\n",
      "https://newsapi.org/v2/everything?q=fashion&language=en&from=2023-03-19&to=2023-03-20&apiKey=149f49e283b3475a832c686e2b548ed5\n",
      "https://newsapi.org/v2/everything?q=food&language=en&from=2023-03-19&to=2023-03-20&apiKey=149f49e283b3475a832c686e2b548ed5\n",
      "https://newsapi.org/v2/everything?q=health&language=en&from=2023-03-19&to=2023-03-20&apiKey=149f49e283b3475a832c686e2b548ed5\n",
      "https://newsapi.org/v2/everything?q=science&language=en&from=2023-03-19&to=2023-03-20&apiKey=149f49e283b3475a832c686e2b548ed5\n",
      "https://newsapi.org/v2/everything?q=sports&language=en&from=2023-03-19&to=2023-03-20&apiKey=149f49e283b3475a832c686e2b548ed5\n",
      "https://newsapi.org/v2/everything?q=lifestyle&language=en&from=2023-03-19&to=2023-03-20&apiKey=149f49e283b3475a832c686e2b548ed5\n"
     ]
    }
   ],
   "source": [
    "types = ['business', 'fashion', 'food', 'health', 'science', 'sports', 'lifestyle']\n",
    "article2 = getArticles('2023-03-19','2023-03-20',types)\n",
    "article2.to_csv('articles/article2.csv', encoding='utf-8', index=False)"
   ]
  },
  {
   "cell_type": "markdown",
   "id": "145e71a3",
   "metadata": {},
   "source": [
    "### Get article headlines in English language from different types from = 2023-03-20 and to = 2023-03-21"
   ]
  },
  {
   "cell_type": "code",
   "execution_count": 8,
   "id": "fc6a93ab",
   "metadata": {},
   "outputs": [
    {
     "name": "stdout",
     "output_type": "stream",
     "text": [
      "https://newsapi.org/v2/everything?q=crime&language=en&from=2023-03-20&to=2023-03-21&apiKey=149f49e283b3475a832c686e2b548ed5\n",
      "https://newsapi.org/v2/everything?q=entertainment&language=en&from=2023-03-20&to=2023-03-21&apiKey=149f49e283b3475a832c686e2b548ed5\n",
      "https://newsapi.org/v2/everything?q=general&language=en&from=2023-03-20&to=2023-03-21&apiKey=149f49e283b3475a832c686e2b548ed5\n",
      "https://newsapi.org/v2/everything?q=health&language=en&from=2023-03-20&to=2023-03-21&apiKey=149f49e283b3475a832c686e2b548ed5\n",
      "https://newsapi.org/v2/everything?q=art&language=en&from=2023-03-20&to=2023-03-21&apiKey=149f49e283b3475a832c686e2b548ed5\n",
      "https://newsapi.org/v2/everything?q=sports&language=en&from=2023-03-20&to=2023-03-21&apiKey=149f49e283b3475a832c686e2b548ed5\n",
      "https://newsapi.org/v2/everything?q=technology&language=en&from=2023-03-20&to=2023-03-21&apiKey=149f49e283b3475a832c686e2b548ed5\n"
     ]
    }
   ],
   "source": [
    "types = ['crime', 'entertainment', 'general', 'health', 'art', 'sports', 'technology']\n",
    "article3 = getArticles('2023-03-20','2023-03-21',types)\n",
    "article3.to_csv('articles/article3.csv', encoding='utf-8', index=False)"
   ]
  },
  {
   "cell_type": "markdown",
   "id": "642c7360",
   "metadata": {},
   "source": [
    "### Get article headlines in English language from different types from = 2023-03-21 and to = 2023-03-22"
   ]
  },
  {
   "cell_type": "code",
   "execution_count": 9,
   "id": "6c02a7d6",
   "metadata": {},
   "outputs": [
    {
     "name": "stdout",
     "output_type": "stream",
     "text": [
      "https://newsapi.org/v2/everything?q=business&language=en&from=2023-03-21&to=2023-03-22&apiKey=149f49e283b3475a832c686e2b548ed5\n",
      "https://newsapi.org/v2/everything?q=entertainment&language=en&from=2023-03-21&to=2023-03-22&apiKey=149f49e283b3475a832c686e2b548ed5\n",
      "https://newsapi.org/v2/everything?q=general&language=en&from=2023-03-21&to=2023-03-22&apiKey=149f49e283b3475a832c686e2b548ed5\n",
      "https://newsapi.org/v2/everything?q=health&language=en&from=2023-03-21&to=2023-03-22&apiKey=149f49e283b3475a832c686e2b548ed5\n",
      "https://newsapi.org/v2/everything?q=science&language=en&from=2023-03-21&to=2023-03-22&apiKey=149f49e283b3475a832c686e2b548ed5\n",
      "https://newsapi.org/v2/everything?q=legal&language=en&from=2023-03-21&to=2023-03-22&apiKey=149f49e283b3475a832c686e2b548ed5\n",
      "https://newsapi.org/v2/everything?q=politics&language=en&from=2023-03-21&to=2023-03-22&apiKey=149f49e283b3475a832c686e2b548ed5\n"
     ]
    }
   ],
   "source": [
    "types = ['business', 'entertainment', 'general', 'health', 'science', 'legal', 'politics']\n",
    "article4 = getArticles('2023-03-21','2023-03-22',types)\n",
    "article4.to_csv('articles/article4.csv', encoding='utf-8', index=False)"
   ]
  },
  {
   "cell_type": "markdown",
   "id": "b16b324d",
   "metadata": {},
   "source": [
    "### Get article headlines in English language from different types from = 2023-03-22 and to = 2023-03-23 "
   ]
  },
  {
   "cell_type": "code",
   "execution_count": 10,
   "id": "4433107a",
   "metadata": {},
   "outputs": [
    {
     "name": "stdout",
     "output_type": "stream",
     "text": [
      "https://newsapi.org/v2/everything?q=business&language=en&from=2023-03-22&to=2023-03-23&apiKey=149f49e283b3475a832c686e2b548ed5\n",
      "https://newsapi.org/v2/everything?q=finance&language=en&from=2023-03-22&to=2023-03-23&apiKey=149f49e283b3475a832c686e2b548ed5\n",
      "https://newsapi.org/v2/everything?q=general&language=en&from=2023-03-22&to=2023-03-23&apiKey=149f49e283b3475a832c686e2b548ed5\n",
      "https://newsapi.org/v2/everything?q=local&language=en&from=2023-03-22&to=2023-03-23&apiKey=149f49e283b3475a832c686e2b548ed5\n",
      "https://newsapi.org/v2/everything?q=science&language=en&from=2023-03-22&to=2023-03-23&apiKey=149f49e283b3475a832c686e2b548ed5\n",
      "https://newsapi.org/v2/everything?q=sports&language=en&from=2023-03-22&to=2023-03-23&apiKey=149f49e283b3475a832c686e2b548ed5\n",
      "https://newsapi.org/v2/everything?q=technology&language=en&from=2023-03-22&to=2023-03-23&apiKey=149f49e283b3475a832c686e2b548ed5\n"
     ]
    }
   ],
   "source": [
    "types = ['business', 'finance', 'general', 'local', 'science', 'sports', 'technology']\n",
    "article5 = getArticles('2023-03-22','2023-03-23',types)\n",
    "article5.to_csv('articles/article5.csv', encoding='utf-8', index=False)"
   ]
  },
  {
   "cell_type": "markdown",
   "id": "0c43986a",
   "metadata": {},
   "source": [
    "### Get article headlines in English language from different types from = 2023-03-23 and to = 2023-03-24"
   ]
  },
  {
   "cell_type": "code",
   "execution_count": 11,
   "id": "54e18c63",
   "metadata": {},
   "outputs": [
    {
     "name": "stdout",
     "output_type": "stream",
     "text": [
      "https://newsapi.org/v2/everything?q=music&language=en&from=2023-03-23&to=2023-03-24&apiKey=149f49e283b3475a832c686e2b548ed5\n",
      "https://newsapi.org/v2/everything?q=jobs&language=en&from=2023-03-23&to=2023-03-24&apiKey=149f49e283b3475a832c686e2b548ed5\n",
      "https://newsapi.org/v2/everything?q=weather&language=en&from=2023-03-23&to=2023-03-24&apiKey=149f49e283b3475a832c686e2b548ed5\n",
      "https://newsapi.org/v2/everything?q=politics&language=en&from=2023-03-23&to=2023-03-24&apiKey=149f49e283b3475a832c686e2b548ed5\n",
      "https://newsapi.org/v2/everything?q=science&language=en&from=2023-03-23&to=2023-03-24&apiKey=149f49e283b3475a832c686e2b548ed5\n",
      "https://newsapi.org/v2/everything?q=international&language=en&from=2023-03-23&to=2023-03-24&apiKey=149f49e283b3475a832c686e2b548ed5\n",
      "https://newsapi.org/v2/everything?q=technology&language=en&from=2023-03-23&to=2023-03-24&apiKey=149f49e283b3475a832c686e2b548ed5\n"
     ]
    }
   ],
   "source": [
    "types = ['music', 'jobs', 'weather', 'politics', 'science', 'international', 'technology']\n",
    "article6 = getArticles('2023-03-23','2023-03-24',types)\n",
    "article6.to_csv('articles/article6.csv', encoding='utf-8', index=False)"
   ]
  },
  {
   "cell_type": "markdown",
   "id": "6396a995",
   "metadata": {},
   "source": [
    "### Get article headlines in English language from all the types from = 2023-03-24 and to = 2023-03-25"
   ]
  },
  {
   "cell_type": "code",
   "execution_count": 12,
   "id": "6d0ca783",
   "metadata": {},
   "outputs": [
    {
     "name": "stdout",
     "output_type": "stream",
     "text": [
      "https://newsapi.org/v2/everything?q=disasters&language=en&from=2023-03-24&to=2023-03-25&apiKey=149f49e283b3475a832c686e2b548ed5\n",
      "https://newsapi.org/v2/everything?q=entertainment&language=en&from=2023-03-24&to=2023-03-25&apiKey=149f49e283b3475a832c686e2b548ed5\n",
      "https://newsapi.org/v2/everything?q=general&language=en&from=2023-03-24&to=2023-03-25&apiKey=149f49e283b3475a832c686e2b548ed5\n",
      "https://newsapi.org/v2/everything?q=health&language=en&from=2023-03-24&to=2023-03-25&apiKey=149f49e283b3475a832c686e2b548ed5\n",
      "https://newsapi.org/v2/everything?q=science&language=en&from=2023-03-24&to=2023-03-25&apiKey=149f49e283b3475a832c686e2b548ed5\n",
      "https://newsapi.org/v2/everything?q=international&language=en&from=2023-03-24&to=2023-03-25&apiKey=149f49e283b3475a832c686e2b548ed5\n",
      "https://newsapi.org/v2/everything?q=technology&language=en&from=2023-03-24&to=2023-03-25&apiKey=149f49e283b3475a832c686e2b548ed5\n"
     ]
    }
   ],
   "source": [
    "types = ['disasters', 'entertainment', 'general', 'health', 'science', 'international', 'technology']\n",
    "article7 = getArticles('2023-03-24','2023-03-25',types)\n",
    "article7.to_csv('articles/article7.csv', encoding='utf-8', index=False)"
   ]
  },
  {
   "cell_type": "markdown",
   "id": "3ecfb885",
   "metadata": {},
   "source": [
    "## Merge CSV files generated for each date into one"
   ]
  },
  {
   "cell_type": "code",
   "execution_count": 13,
   "id": "fcab9c6d",
   "metadata": {},
   "outputs": [
    {
     "data": {
      "text/plain": [
       "['article1.csv',\n",
       " 'article2.csv',\n",
       " 'article3.csv',\n",
       " 'article4.csv',\n",
       " 'article5.csv',\n",
       " 'article6.csv',\n",
       " 'article7.csv']"
      ]
     },
     "execution_count": 13,
     "metadata": {},
     "output_type": "execute_result"
    }
   ],
   "source": [
    "files_path = 'C:/users/priyanka/DataScience/articles'\n",
    "files_list = os.listdir(files_path) #select the file path in which all the temporary csv files are present\n",
    "files_list"
   ]
  },
  {
   "cell_type": "code",
   "execution_count": 14,
   "id": "a4850c60",
   "metadata": {},
   "outputs": [
    {
     "name": "stdout",
     "output_type": "stream",
     "text": [
      "merging and creating articles csv file\n",
      "articles successfully created\n"
     ]
    }
   ],
   "source": [
    "#concat all the csv files into a dataframe and convert it into a single csv file\n",
    "all_articles = pd.DataFrame() \n",
    "print('merging and creating articles csv file')\n",
    "all_articles = pd.concat([pd.read_csv(files_path + '/' + article_file) for article_file in files_list], ignore_index=True)\n",
    "all_articles.to_csv('articles.csv', encoding='utf-8', index=False)\n",
    "print('articles successfully created')"
   ]
  },
  {
   "cell_type": "code",
   "execution_count": null,
   "id": "dd119569",
   "metadata": {},
   "outputs": [],
   "source": []
  }
 ],
 "metadata": {
  "kernelspec": {
   "display_name": "Python 3 (ipykernel)",
   "language": "python",
   "name": "python3"
  },
  "language_info": {
   "codemirror_mode": {
    "name": "ipython",
    "version": 3
   },
   "file_extension": ".py",
   "mimetype": "text/x-python",
   "name": "python",
   "nbconvert_exporter": "python",
   "pygments_lexer": "ipython3",
   "version": "3.9.12"
  }
 },
 "nbformat": 4,
 "nbformat_minor": 5
}
